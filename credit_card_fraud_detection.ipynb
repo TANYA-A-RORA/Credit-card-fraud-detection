{
  "nbformat": 4,
  "nbformat_minor": 0,
  "metadata": {
    "colab": {
      "name": "credit card fraud detection.ipynb",
      "provenance": []
    },
    "kernelspec": {
      "name": "python3",
      "display_name": "Python 3"
    },
    "language_info": {
      "name": "python"
    }
  },
  "cells": [
    {
      "cell_type": "code",
      "metadata": {
        "colab": {
          "base_uri": "https://localhost:8080/",
          "height": 240
        },
        "id": "WmSqBwp0njhQ",
        "outputId": "30e15431-f71b-433c-94b2-d950cfaf7152"
      },
      "source": [
        "import numpy as np\n",
        "import pandas as pd\n",
        "import matplotlib.pyplot as plt\n",
        "import seaborn as sns\n",
        "sns.set()\n",
        "%matplotlib inline\n",
        "\n",
        "df = pd.read_csv('creditcard.csv')\n",
        "print(df.shape)\n",
        "df.head()"
      ],
      "execution_count": 54,
      "outputs": [
        {
          "output_type": "stream",
          "name": "stdout",
          "text": [
            "(273262, 31)\n"
          ]
        },
        {
          "output_type": "execute_result",
          "data": {
            "text/html": [
              "<div>\n",
              "<style scoped>\n",
              "    .dataframe tbody tr th:only-of-type {\n",
              "        vertical-align: middle;\n",
              "    }\n",
              "\n",
              "    .dataframe tbody tr th {\n",
              "        vertical-align: top;\n",
              "    }\n",
              "\n",
              "    .dataframe thead th {\n",
              "        text-align: right;\n",
              "    }\n",
              "</style>\n",
              "<table border=\"1\" class=\"dataframe\">\n",
              "  <thead>\n",
              "    <tr style=\"text-align: right;\">\n",
              "      <th></th>\n",
              "      <th>Time</th>\n",
              "      <th>V1</th>\n",
              "      <th>V2</th>\n",
              "      <th>V3</th>\n",
              "      <th>V4</th>\n",
              "      <th>V5</th>\n",
              "      <th>V6</th>\n",
              "      <th>V7</th>\n",
              "      <th>V8</th>\n",
              "      <th>V9</th>\n",
              "      <th>V10</th>\n",
              "      <th>V11</th>\n",
              "      <th>V12</th>\n",
              "      <th>V13</th>\n",
              "      <th>V14</th>\n",
              "      <th>V15</th>\n",
              "      <th>V16</th>\n",
              "      <th>V17</th>\n",
              "      <th>V18</th>\n",
              "      <th>V19</th>\n",
              "      <th>V20</th>\n",
              "      <th>V21</th>\n",
              "      <th>V22</th>\n",
              "      <th>V23</th>\n",
              "      <th>V24</th>\n",
              "      <th>V25</th>\n",
              "      <th>V26</th>\n",
              "      <th>V27</th>\n",
              "      <th>V28</th>\n",
              "      <th>Amount</th>\n",
              "      <th>Class</th>\n",
              "    </tr>\n",
              "  </thead>\n",
              "  <tbody>\n",
              "    <tr>\n",
              "      <th>0</th>\n",
              "      <td>0.0</td>\n",
              "      <td>-1.359807</td>\n",
              "      <td>-0.072781</td>\n",
              "      <td>2.536347</td>\n",
              "      <td>1.378155</td>\n",
              "      <td>-0.338321</td>\n",
              "      <td>0.462388</td>\n",
              "      <td>0.239599</td>\n",
              "      <td>0.098698</td>\n",
              "      <td>0.363787</td>\n",
              "      <td>0.090794</td>\n",
              "      <td>-0.551600</td>\n",
              "      <td>-0.617801</td>\n",
              "      <td>-0.991390</td>\n",
              "      <td>-0.311169</td>\n",
              "      <td>1.468177</td>\n",
              "      <td>-0.470401</td>\n",
              "      <td>0.207971</td>\n",
              "      <td>0.025791</td>\n",
              "      <td>0.403993</td>\n",
              "      <td>0.251412</td>\n",
              "      <td>-0.018307</td>\n",
              "      <td>0.277838</td>\n",
              "      <td>-0.110474</td>\n",
              "      <td>0.066928</td>\n",
              "      <td>0.128539</td>\n",
              "      <td>-0.189115</td>\n",
              "      <td>0.133558</td>\n",
              "      <td>-0.021053</td>\n",
              "      <td>149.62</td>\n",
              "      <td>0.0</td>\n",
              "    </tr>\n",
              "    <tr>\n",
              "      <th>1</th>\n",
              "      <td>0.0</td>\n",
              "      <td>1.191857</td>\n",
              "      <td>0.266151</td>\n",
              "      <td>0.166480</td>\n",
              "      <td>0.448154</td>\n",
              "      <td>0.060018</td>\n",
              "      <td>-0.082361</td>\n",
              "      <td>-0.078803</td>\n",
              "      <td>0.085102</td>\n",
              "      <td>-0.255425</td>\n",
              "      <td>-0.166974</td>\n",
              "      <td>1.612727</td>\n",
              "      <td>1.065235</td>\n",
              "      <td>0.489095</td>\n",
              "      <td>-0.143772</td>\n",
              "      <td>0.635558</td>\n",
              "      <td>0.463917</td>\n",
              "      <td>-0.114805</td>\n",
              "      <td>-0.183361</td>\n",
              "      <td>-0.145783</td>\n",
              "      <td>-0.069083</td>\n",
              "      <td>-0.225775</td>\n",
              "      <td>-0.638672</td>\n",
              "      <td>0.101288</td>\n",
              "      <td>-0.339846</td>\n",
              "      <td>0.167170</td>\n",
              "      <td>0.125895</td>\n",
              "      <td>-0.008983</td>\n",
              "      <td>0.014724</td>\n",
              "      <td>2.69</td>\n",
              "      <td>0.0</td>\n",
              "    </tr>\n",
              "    <tr>\n",
              "      <th>2</th>\n",
              "      <td>1.0</td>\n",
              "      <td>-1.358354</td>\n",
              "      <td>-1.340163</td>\n",
              "      <td>1.773209</td>\n",
              "      <td>0.379780</td>\n",
              "      <td>-0.503198</td>\n",
              "      <td>1.800499</td>\n",
              "      <td>0.791461</td>\n",
              "      <td>0.247676</td>\n",
              "      <td>-1.514654</td>\n",
              "      <td>0.207643</td>\n",
              "      <td>0.624501</td>\n",
              "      <td>0.066084</td>\n",
              "      <td>0.717293</td>\n",
              "      <td>-0.165946</td>\n",
              "      <td>2.345865</td>\n",
              "      <td>-2.890083</td>\n",
              "      <td>1.109969</td>\n",
              "      <td>-0.121359</td>\n",
              "      <td>-2.261857</td>\n",
              "      <td>0.524980</td>\n",
              "      <td>0.247998</td>\n",
              "      <td>0.771679</td>\n",
              "      <td>0.909412</td>\n",
              "      <td>-0.689281</td>\n",
              "      <td>-0.327642</td>\n",
              "      <td>-0.139097</td>\n",
              "      <td>-0.055353</td>\n",
              "      <td>-0.059752</td>\n",
              "      <td>378.66</td>\n",
              "      <td>0.0</td>\n",
              "    </tr>\n",
              "    <tr>\n",
              "      <th>3</th>\n",
              "      <td>1.0</td>\n",
              "      <td>-0.966272</td>\n",
              "      <td>-0.185226</td>\n",
              "      <td>1.792993</td>\n",
              "      <td>-0.863291</td>\n",
              "      <td>-0.010309</td>\n",
              "      <td>1.247203</td>\n",
              "      <td>0.237609</td>\n",
              "      <td>0.377436</td>\n",
              "      <td>-1.387024</td>\n",
              "      <td>-0.054952</td>\n",
              "      <td>-0.226487</td>\n",
              "      <td>0.178228</td>\n",
              "      <td>0.507757</td>\n",
              "      <td>-0.287924</td>\n",
              "      <td>-0.631418</td>\n",
              "      <td>-1.059647</td>\n",
              "      <td>-0.684093</td>\n",
              "      <td>1.965775</td>\n",
              "      <td>-1.232622</td>\n",
              "      <td>-0.208038</td>\n",
              "      <td>-0.108300</td>\n",
              "      <td>0.005274</td>\n",
              "      <td>-0.190321</td>\n",
              "      <td>-1.175575</td>\n",
              "      <td>0.647376</td>\n",
              "      <td>-0.221929</td>\n",
              "      <td>0.062723</td>\n",
              "      <td>0.061458</td>\n",
              "      <td>123.50</td>\n",
              "      <td>0.0</td>\n",
              "    </tr>\n",
              "    <tr>\n",
              "      <th>4</th>\n",
              "      <td>2.0</td>\n",
              "      <td>-1.158233</td>\n",
              "      <td>0.877737</td>\n",
              "      <td>1.548718</td>\n",
              "      <td>0.403034</td>\n",
              "      <td>-0.407193</td>\n",
              "      <td>0.095921</td>\n",
              "      <td>0.592941</td>\n",
              "      <td>-0.270533</td>\n",
              "      <td>0.817739</td>\n",
              "      <td>0.753074</td>\n",
              "      <td>-0.822843</td>\n",
              "      <td>0.538196</td>\n",
              "      <td>1.345852</td>\n",
              "      <td>-1.119670</td>\n",
              "      <td>0.175121</td>\n",
              "      <td>-0.451449</td>\n",
              "      <td>-0.237033</td>\n",
              "      <td>-0.038195</td>\n",
              "      <td>0.803487</td>\n",
              "      <td>0.408542</td>\n",
              "      <td>-0.009431</td>\n",
              "      <td>0.798278</td>\n",
              "      <td>-0.137458</td>\n",
              "      <td>0.141267</td>\n",
              "      <td>-0.206010</td>\n",
              "      <td>0.502292</td>\n",
              "      <td>0.219422</td>\n",
              "      <td>0.215153</td>\n",
              "      <td>69.99</td>\n",
              "      <td>0.0</td>\n",
              "    </tr>\n",
              "  </tbody>\n",
              "</table>\n",
              "</div>"
            ],
            "text/plain": [
              "   Time        V1        V2        V3  ...       V27       V28  Amount  Class\n",
              "0   0.0 -1.359807 -0.072781  2.536347  ...  0.133558 -0.021053  149.62    0.0\n",
              "1   0.0  1.191857  0.266151  0.166480  ... -0.008983  0.014724    2.69    0.0\n",
              "2   1.0 -1.358354 -1.340163  1.773209  ... -0.055353 -0.059752  378.66    0.0\n",
              "3   1.0 -0.966272 -0.185226  1.792993  ...  0.062723  0.061458  123.50    0.0\n",
              "4   2.0 -1.158233  0.877737  1.548718  ...  0.219422  0.215153   69.99    0.0\n",
              "\n",
              "[5 rows x 31 columns]"
            ]
          },
          "metadata": {},
          "execution_count": 54
        }
      ]
    },
    {
      "cell_type": "code",
      "metadata": {
        "colab": {
          "base_uri": "https://localhost:8080/"
        },
        "id": "Uco6iU88uKM9",
        "outputId": "6f041cfb-e118-49a2-95ab-658ef499ba44"
      },
      "source": [
        "df.info()"
      ],
      "execution_count": 55,
      "outputs": [
        {
          "output_type": "stream",
          "name": "stdout",
          "text": [
            "<class 'pandas.core.frame.DataFrame'>\n",
            "RangeIndex: 273262 entries, 0 to 273261\n",
            "Data columns (total 31 columns):\n",
            " #   Column  Non-Null Count   Dtype  \n",
            "---  ------  --------------   -----  \n",
            " 0   Time    273262 non-null  float64\n",
            " 1   V1      273262 non-null  float64\n",
            " 2   V2      273262 non-null  float64\n",
            " 3   V3      273262 non-null  float64\n",
            " 4   V4      273262 non-null  float64\n",
            " 5   V5      273262 non-null  float64\n",
            " 6   V6      273262 non-null  float64\n",
            " 7   V7      273262 non-null  float64\n",
            " 8   V8      273262 non-null  float64\n",
            " 9   V9      273262 non-null  float64\n",
            " 10  V10     273262 non-null  float64\n",
            " 11  V11     273262 non-null  float64\n",
            " 12  V12     273262 non-null  float64\n",
            " 13  V13     273262 non-null  float64\n",
            " 14  V14     273262 non-null  float64\n",
            " 15  V15     273261 non-null  float64\n",
            " 16  V16     273261 non-null  float64\n",
            " 17  V17     273261 non-null  float64\n",
            " 18  V18     273261 non-null  float64\n",
            " 19  V19     273261 non-null  float64\n",
            " 20  V20     273261 non-null  float64\n",
            " 21  V21     273261 non-null  float64\n",
            " 22  V22     273261 non-null  float64\n",
            " 23  V23     273261 non-null  float64\n",
            " 24  V24     273261 non-null  float64\n",
            " 25  V25     273261 non-null  float64\n",
            " 26  V26     273261 non-null  float64\n",
            " 27  V27     273261 non-null  float64\n",
            " 28  V28     273261 non-null  float64\n",
            " 29  Amount  273261 non-null  float64\n",
            " 30  Class   273261 non-null  float64\n",
            "dtypes: float64(31)\n",
            "memory usage: 64.6 MB\n"
          ]
        }
      ]
    },
    {
      "cell_type": "code",
      "metadata": {
        "colab": {
          "base_uri": "https://localhost:8080/",
          "height": 315
        },
        "id": "cW2OebJduM2X",
        "outputId": "1b581052-e6e5-4183-ed94-b30e291d12e8"
      },
      "source": [
        "df.describe()"
      ],
      "execution_count": 56,
      "outputs": [
        {
          "output_type": "execute_result",
          "data": {
            "text/html": [
              "<div>\n",
              "<style scoped>\n",
              "    .dataframe tbody tr th:only-of-type {\n",
              "        vertical-align: middle;\n",
              "    }\n",
              "\n",
              "    .dataframe tbody tr th {\n",
              "        vertical-align: top;\n",
              "    }\n",
              "\n",
              "    .dataframe thead th {\n",
              "        text-align: right;\n",
              "    }\n",
              "</style>\n",
              "<table border=\"1\" class=\"dataframe\">\n",
              "  <thead>\n",
              "    <tr style=\"text-align: right;\">\n",
              "      <th></th>\n",
              "      <th>Time</th>\n",
              "      <th>V1</th>\n",
              "      <th>V2</th>\n",
              "      <th>V3</th>\n",
              "      <th>V4</th>\n",
              "      <th>V5</th>\n",
              "      <th>V6</th>\n",
              "      <th>V7</th>\n",
              "      <th>V8</th>\n",
              "      <th>V9</th>\n",
              "      <th>V10</th>\n",
              "      <th>V11</th>\n",
              "      <th>V12</th>\n",
              "      <th>V13</th>\n",
              "      <th>V14</th>\n",
              "      <th>V15</th>\n",
              "      <th>V16</th>\n",
              "      <th>V17</th>\n",
              "      <th>V18</th>\n",
              "      <th>V19</th>\n",
              "      <th>V20</th>\n",
              "      <th>V21</th>\n",
              "      <th>V22</th>\n",
              "      <th>V23</th>\n",
              "      <th>V24</th>\n",
              "      <th>V25</th>\n",
              "      <th>V26</th>\n",
              "      <th>V27</th>\n",
              "      <th>V28</th>\n",
              "      <th>Amount</th>\n",
              "      <th>Class</th>\n",
              "    </tr>\n",
              "  </thead>\n",
              "  <tbody>\n",
              "    <tr>\n",
              "      <th>count</th>\n",
              "      <td>273262.000000</td>\n",
              "      <td>273262.000000</td>\n",
              "      <td>273262.000000</td>\n",
              "      <td>273262.000000</td>\n",
              "      <td>273262.000000</td>\n",
              "      <td>273262.000000</td>\n",
              "      <td>273262.000000</td>\n",
              "      <td>273262.000000</td>\n",
              "      <td>273262.000000</td>\n",
              "      <td>273262.000000</td>\n",
              "      <td>273262.000000</td>\n",
              "      <td>273262.000000</td>\n",
              "      <td>273262.000000</td>\n",
              "      <td>273262.000000</td>\n",
              "      <td>273262.000000</td>\n",
              "      <td>273261.000000</td>\n",
              "      <td>273261.000000</td>\n",
              "      <td>273261.000000</td>\n",
              "      <td>273261.000000</td>\n",
              "      <td>273261.000000</td>\n",
              "      <td>273261.000000</td>\n",
              "      <td>273261.000000</td>\n",
              "      <td>273261.000000</td>\n",
              "      <td>273261.000000</td>\n",
              "      <td>273261.000000</td>\n",
              "      <td>273261.000000</td>\n",
              "      <td>273261.000000</td>\n",
              "      <td>273261.000000</td>\n",
              "      <td>273261.000000</td>\n",
              "      <td>273261.000000</td>\n",
              "      <td>273261.000000</td>\n",
              "    </tr>\n",
              "    <tr>\n",
              "      <th>mean</th>\n",
              "      <td>91689.494416</td>\n",
              "      <td>-0.005661</td>\n",
              "      <td>-0.011566</td>\n",
              "      <td>0.031749</td>\n",
              "      <td>0.006925</td>\n",
              "      <td>-0.012742</td>\n",
              "      <td>0.005653</td>\n",
              "      <td>-0.005842</td>\n",
              "      <td>-0.000684</td>\n",
              "      <td>-0.000193</td>\n",
              "      <td>0.001198</td>\n",
              "      <td>0.013028</td>\n",
              "      <td>-0.010288</td>\n",
              "      <td>0.001192</td>\n",
              "      <td>0.004324</td>\n",
              "      <td>0.007956</td>\n",
              "      <td>-0.000912</td>\n",
              "      <td>0.002608</td>\n",
              "      <td>-0.004630</td>\n",
              "      <td>-0.000814</td>\n",
              "      <td>0.000901</td>\n",
              "      <td>-0.000234</td>\n",
              "      <td>-0.003195</td>\n",
              "      <td>-0.001665</td>\n",
              "      <td>0.000393</td>\n",
              "      <td>0.006193</td>\n",
              "      <td>0.000533</td>\n",
              "      <td>-0.000148</td>\n",
              "      <td>0.000419</td>\n",
              "      <td>89.176571</td>\n",
              "      <td>0.001764</td>\n",
              "    </tr>\n",
              "    <tr>\n",
              "      <th>std</th>\n",
              "      <td>45928.226716</td>\n",
              "      <td>1.957568</td>\n",
              "      <td>1.653789</td>\n",
              "      <td>1.510507</td>\n",
              "      <td>1.416367</td>\n",
              "      <td>1.365857</td>\n",
              "      <td>1.324647</td>\n",
              "      <td>1.218181</td>\n",
              "      <td>1.193695</td>\n",
              "      <td>1.102257</td>\n",
              "      <td>1.086008</td>\n",
              "      <td>1.023233</td>\n",
              "      <td>1.009416</td>\n",
              "      <td>1.000119</td>\n",
              "      <td>0.960535</td>\n",
              "      <td>0.919301</td>\n",
              "      <td>0.878725</td>\n",
              "      <td>0.853205</td>\n",
              "      <td>0.840168</td>\n",
              "      <td>0.815327</td>\n",
              "      <td>0.770396</td>\n",
              "      <td>0.737152</td>\n",
              "      <td>0.723127</td>\n",
              "      <td>0.629038</td>\n",
              "      <td>0.605856</td>\n",
              "      <td>0.519090</td>\n",
              "      <td>0.483242</td>\n",
              "      <td>0.398821</td>\n",
              "      <td>0.331547</td>\n",
              "      <td>247.094518</td>\n",
              "      <td>0.041962</td>\n",
              "    </tr>\n",
              "    <tr>\n",
              "      <th>min</th>\n",
              "      <td>0.000000</td>\n",
              "      <td>-56.407510</td>\n",
              "      <td>-72.715728</td>\n",
              "      <td>-33.680984</td>\n",
              "      <td>-5.683171</td>\n",
              "      <td>-42.147898</td>\n",
              "      <td>-26.160506</td>\n",
              "      <td>-43.557242</td>\n",
              "      <td>-73.216718</td>\n",
              "      <td>-13.434066</td>\n",
              "      <td>-24.588262</td>\n",
              "      <td>-4.797473</td>\n",
              "      <td>-18.683715</td>\n",
              "      <td>-5.791881</td>\n",
              "      <td>-19.214325</td>\n",
              "      <td>-4.498945</td>\n",
              "      <td>-14.129855</td>\n",
              "      <td>-25.162799</td>\n",
              "      <td>-9.498746</td>\n",
              "      <td>-7.213527</td>\n",
              "      <td>-28.009635</td>\n",
              "      <td>-34.830382</td>\n",
              "      <td>-10.933144</td>\n",
              "      <td>-44.807735</td>\n",
              "      <td>-2.836627</td>\n",
              "      <td>-10.295397</td>\n",
              "      <td>-2.604551</td>\n",
              "      <td>-22.565679</td>\n",
              "      <td>-11.710896</td>\n",
              "      <td>0.000000</td>\n",
              "      <td>0.000000</td>\n",
              "    </tr>\n",
              "    <tr>\n",
              "      <th>25%</th>\n",
              "      <td>52930.500000</td>\n",
              "      <td>-0.921514</td>\n",
              "      <td>-0.606329</td>\n",
              "      <td>-0.841474</td>\n",
              "      <td>-0.846800</td>\n",
              "      <td>-0.704854</td>\n",
              "      <td>-0.762333</td>\n",
              "      <td>-0.558301</td>\n",
              "      <td>-0.206831</td>\n",
              "      <td>-0.648007</td>\n",
              "      <td>-0.530990</td>\n",
              "      <td>-0.749165</td>\n",
              "      <td>-0.416265</td>\n",
              "      <td>-0.651047</td>\n",
              "      <td>-0.419015</td>\n",
              "      <td>-0.576658</td>\n",
              "      <td>-0.470994</td>\n",
              "      <td>-0.479163</td>\n",
              "      <td>-0.502084</td>\n",
              "      <td>-0.460665</td>\n",
              "      <td>-0.210674</td>\n",
              "      <td>-0.227212</td>\n",
              "      <td>-0.539137</td>\n",
              "      <td>-0.162686</td>\n",
              "      <td>-0.353296</td>\n",
              "      <td>-0.309694</td>\n",
              "      <td>-0.327807</td>\n",
              "      <td>-0.070674</td>\n",
              "      <td>-0.052197</td>\n",
              "      <td>5.900000</td>\n",
              "      <td>0.000000</td>\n",
              "    </tr>\n",
              "    <tr>\n",
              "      <th>50%</th>\n",
              "      <td>81799.500000</td>\n",
              "      <td>0.019750</td>\n",
              "      <td>0.060154</td>\n",
              "      <td>0.218640</td>\n",
              "      <td>-0.007932</td>\n",
              "      <td>-0.069185</td>\n",
              "      <td>-0.266656</td>\n",
              "      <td>0.033290</td>\n",
              "      <td>0.023732</td>\n",
              "      <td>-0.053002</td>\n",
              "      <td>-0.090770</td>\n",
              "      <td>-0.022366</td>\n",
              "      <td>0.133090</td>\n",
              "      <td>-0.013547</td>\n",
              "      <td>0.052840</td>\n",
              "      <td>0.060713</td>\n",
              "      <td>0.065182</td>\n",
              "      <td>-0.062309</td>\n",
              "      <td>-0.008494</td>\n",
              "      <td>0.002292</td>\n",
              "      <td>-0.060880</td>\n",
              "      <td>-0.029935</td>\n",
              "      <td>0.004605</td>\n",
              "      <td>-0.013175</td>\n",
              "      <td>0.042383</td>\n",
              "      <td>0.027731</td>\n",
              "      <td>-0.054306</td>\n",
              "      <td>0.001580</td>\n",
              "      <td>0.012000</td>\n",
              "      <td>22.500000</td>\n",
              "      <td>0.000000</td>\n",
              "    </tr>\n",
              "    <tr>\n",
              "      <th>75%</th>\n",
              "      <td>135516.000000</td>\n",
              "      <td>1.300409</td>\n",
              "      <td>0.791299</td>\n",
              "      <td>1.051607</td>\n",
              "      <td>0.759570</td>\n",
              "      <td>0.596475</td>\n",
              "      <td>0.405850</td>\n",
              "      <td>0.561713</td>\n",
              "      <td>0.326826</td>\n",
              "      <td>0.600892</td>\n",
              "      <td>0.458054</td>\n",
              "      <td>0.755651</td>\n",
              "      <td>0.615033</td>\n",
              "      <td>0.664822</td>\n",
              "      <td>0.494988</td>\n",
              "      <td>0.661996</td>\n",
              "      <td>0.525268</td>\n",
              "      <td>0.401437</td>\n",
              "      <td>0.496437</td>\n",
              "      <td>0.461350</td>\n",
              "      <td>0.135069</td>\n",
              "      <td>0.183407</td>\n",
              "      <td>0.519566</td>\n",
              "      <td>0.144295</td>\n",
              "      <td>0.437124</td>\n",
              "      <td>0.354752</td>\n",
              "      <td>0.243041</td>\n",
              "      <td>0.089967</td>\n",
              "      <td>0.077859</td>\n",
              "      <td>78.480000</td>\n",
              "      <td>0.000000</td>\n",
              "    </tr>\n",
              "    <tr>\n",
              "      <th>max</th>\n",
              "      <td>165515.000000</td>\n",
              "      <td>2.454930</td>\n",
              "      <td>22.057729</td>\n",
              "      <td>9.382558</td>\n",
              "      <td>16.875344</td>\n",
              "      <td>34.801666</td>\n",
              "      <td>22.529298</td>\n",
              "      <td>36.877368</td>\n",
              "      <td>20.007208</td>\n",
              "      <td>15.594995</td>\n",
              "      <td>23.745136</td>\n",
              "      <td>12.018913</td>\n",
              "      <td>7.848392</td>\n",
              "      <td>4.569009</td>\n",
              "      <td>10.526766</td>\n",
              "      <td>5.825654</td>\n",
              "      <td>8.289890</td>\n",
              "      <td>9.253526</td>\n",
              "      <td>5.041069</td>\n",
              "      <td>5.591971</td>\n",
              "      <td>39.420904</td>\n",
              "      <td>27.202839</td>\n",
              "      <td>10.503090</td>\n",
              "      <td>22.528412</td>\n",
              "      <td>4.022866</td>\n",
              "      <td>7.519589</td>\n",
              "      <td>3.517346</td>\n",
              "      <td>12.152401</td>\n",
              "      <td>33.847808</td>\n",
              "      <td>19656.530000</td>\n",
              "      <td>1.000000</td>\n",
              "    </tr>\n",
              "  </tbody>\n",
              "</table>\n",
              "</div>"
            ],
            "text/plain": [
              "                Time             V1  ...         Amount          Class\n",
              "count  273262.000000  273262.000000  ...  273261.000000  273261.000000\n",
              "mean    91689.494416      -0.005661  ...      89.176571       0.001764\n",
              "std     45928.226716       1.957568  ...     247.094518       0.041962\n",
              "min         0.000000     -56.407510  ...       0.000000       0.000000\n",
              "25%     52930.500000      -0.921514  ...       5.900000       0.000000\n",
              "50%     81799.500000       0.019750  ...      22.500000       0.000000\n",
              "75%    135516.000000       1.300409  ...      78.480000       0.000000\n",
              "max    165515.000000       2.454930  ...   19656.530000       1.000000\n",
              "\n",
              "[8 rows x 31 columns]"
            ]
          },
          "metadata": {},
          "execution_count": 56
        }
      ]
    },
    {
      "cell_type": "code",
      "metadata": {
        "colab": {
          "base_uri": "https://localhost:8080/"
        },
        "id": "Tv99gdcFuSgW",
        "outputId": "e30f34f4-dc54-49d3-cb15-1a6e8966b842"
      },
      "source": [
        "class_names = {0:'Not Fraud', 1:'Fraud'}\n",
        "print(df.Class.value_counts().rename(index = class_names))"
      ],
      "execution_count": 57,
      "outputs": [
        {
          "output_type": "stream",
          "name": "stdout",
          "text": [
            "Not Fraud    272779\n",
            "Fraud           482\n",
            "Name: Class, dtype: int64\n"
          ]
        }
      ]
    },
    {
      "cell_type": "code",
      "metadata": {
        "colab": {
          "base_uri": "https://localhost:8080/",
          "height": 705
        },
        "id": "N2GGyujOuYkt",
        "outputId": "f36b6d68-daf8-4945-e993-47f38f9549e2"
      },
      "source": [
        "fig = plt.figure(figsize = (15, 12))\n",
        "\n",
        "plt.subplot(5, 6, 1) ; plt.plot(df.V1) ; plt.subplot(5, 6, 15) ; plt.plot(df.V15)\n",
        "plt.subplot(5, 6, 2) ; plt.plot(df.V2) ; plt.subplot(5, 6, 16) ; plt.plot(df.V16)\n",
        "plt.subplot(5, 6, 3) ; plt.plot(df.V3) ; plt.subplot(5, 6, 17) ; plt.plot(df.V17)\n",
        "plt.subplot(5, 6, 4) ; plt.plot(df.V4) ; plt.subplot(5, 6, 18) ; plt.plot(df.V18)\n",
        "plt.subplot(5, 6, 5) ; plt.plot(df.V5) ; plt.subplot(5, 6, 19) ; plt.plot(df.V19)\n",
        "plt.subplot(5, 6, 6) ; plt.plot(df.V6) ; plt.subplot(5, 6, 20) ; plt.plot(df.V20)\n",
        "plt.subplot(5, 6, 7) ; plt.plot(df.V7) ; plt.subplot(5, 6, 21) ; plt.plot(df.V21)\n",
        "plt.subplot(5, 6, 8) ; plt.plot(df.V8) ; plt.subplot(5, 6, 22) ; plt.plot(df.V22)\n",
        "plt.subplot(5, 6, 9) ; plt.plot(df.V9) ; plt.subplot(5, 6, 23) ; plt.plot(df.V23)\n",
        "plt.subplot(5, 6, 10) ; plt.plot(df.V10) ; plt.subplot(5, 6, 24) ; plt.plot(df.V24)\n",
        "plt.subplot(5, 6, 11) ; plt.plot(df.V11) ; plt.subplot(5, 6, 25) ; plt.plot(df.V25)\n",
        "plt.subplot(5, 6, 12) ; plt.plot(df.V12) ; plt.subplot(5, 6, 26) ; plt.plot(df.V26)\n",
        "plt.subplot(5, 6, 13) ; plt.plot(df.V13) ; plt.subplot(5, 6, 27) ; plt.plot(df.V27)\n",
        "plt.subplot(5, 6, 14) ; plt.plot(df.V14) ; plt.subplot(5, 6, 28) ; plt.plot(df.V28)\n",
        "plt.subplot(5, 6, 29) ; plt.plot(df.Amount)\n",
        "plt.show()"
      ],
      "execution_count": 58,
      "outputs": [
        {
          "output_type": "display_data",
          "data": {
            "image/png": "[encoded data removed]",
            "text/plain": [
              "<Figure size 1080x864 with 29 Axes>"
            ]
          },
          "metadata": {
            "needs_background": "light"
          }
        }
      ]
    },
    {
      "cell_type": "code",
      "metadata": {
        "id": "wQ7OC6XDugLu"
      },
      "source": [
        "from sklearn.model_selection import train_test_split"
      ],
      "execution_count": 59,
      "outputs": []
    },
    {
      "cell_type": "code",
      "metadata": {
        "colab": {
          "base_uri": "https://localhost:8080/"
        },
        "id": "jqNUzsTnu42Y",
        "outputId": "820aec0d-14f6-42a6-dab3-fc78cfab9dc4"
      },
      "source": [
        "feature_names = df.iloc[:, 1:30].columns\n",
        "target = df.iloc[:1, 30: ].columns\n",
        "print(feature_names)\n",
        "print(target)"
      ],
      "execution_count": 60,
      "outputs": [
        {
          "output_type": "stream",
          "name": "stdout",
          "text": [
            "Index(['V1', 'V2', 'V3', 'V4', 'V5', 'V6', 'V7', 'V8', 'V9', 'V10', 'V11',\n",
            "       'V12', 'V13', 'V14', 'V15', 'V16', 'V17', 'V18', 'V19', 'V20', 'V21',\n",
            "       'V22', 'V23', 'V24', 'V25', 'V26', 'V27', 'V28', 'Amount'],\n",
            "      dtype='object')\n",
            "Index(['Class'], dtype='object')\n"
          ]
        }
      ]
    },
    {
      "cell_type": "code",
      "metadata": {
        "id": "oxQ8exO4u8f-"
      },
      "source": [
        "data_features = df[feature_names]\n",
        "data_target = df[target]"
      ],
      "execution_count": 61,
      "outputs": []
    },
    {
      "cell_type": "code",
      "metadata": {
        "colab": {
          "base_uri": "https://localhost:8080/"
        },
        "id": "6jDJBNXhvBDt",
        "outputId": "6bb2b980-aee8-49eb-a6ab-852dd6b9ffba"
      },
      "source": [
        "X_train, X_test, y_train, y_test = train_test_split(data_features, data_target, train_size=0.70, test_size=0.30, random_state=1)\n",
        "print(\"Length of X_train is: {X_train}\".format(X_train = len(X_train)))\n",
        "print(\"Length of X_test is: {X_test}\".format(X_test = len(X_test)))\n",
        "print(\"Length of y_train is: {y_train}\".format(y_train = len(y_train)))\n",
        "print(\"Length of y_test is: {y_test}\".format(y_test = len(y_test)))"
      ],
      "execution_count": 62,
      "outputs": [
        {
          "output_type": "stream",
          "name": "stdout",
          "text": [
            "Length of X_train is: 191283\n",
            "Length of X_test is: 81979\n",
            "Length of y_train is: 191283\n",
            "Length of y_test is: 81979\n"
          ]
        }
      ]
    },
    {
      "cell_type": "code",
      "metadata": {
        "id": "JoVHgXRzvG1g"
      },
      "source": [
        "from sklearn.linear_model import LogisticRegression\n",
        "from sklearn.metrics import confusion_matrix"
      ],
      "execution_count": 63,
      "outputs": []
    },
    {
      "cell_type": "code",
      "metadata": {
        "colab": {
          "base_uri": "https://localhost:8080/"
        },
        "id": "NkgJ5PZhvL6X",
        "outputId": "26b50cb4-b63e-4e28-d836-bb1f197823d7"
      },
      "source": [
        "model = LogisticRegression()\n",
        "model.fit"
      ],
      "execution_count": 64,
      "outputs": [
        {
          "output_type": "execute_result",
          "data": {
            "text/plain": [
              "<bound method LogisticRegression.fit of LogisticRegression()>"
            ]
          },
          "metadata": {},
          "execution_count": 64
        }
      ]
    },
    {
      "cell_type": "code",
      "metadata": {
        "colab": {
          "base_uri": "https://localhost:8080/"
        },
        "id": "r6uKp0wX0Qd1",
        "outputId": "e0ab7608-51cf-45ff-9dcd-df2d558e6c80"
      },
      "source": [
        "from sklearn.linear_model import LogisticRegression\n",
        "classifier = LogisticRegression()\n",
        "classifier.fit"
      ],
      "execution_count": 65,
      "outputs": [
        {
          "output_type": "execute_result",
          "data": {
            "text/plain": [
              "<bound method LogisticRegression.fit of LogisticRegression()>"
            ]
          },
          "metadata": {},
          "execution_count": 65
        }
      ]
    },
    {
      "cell_type": "code",
      "metadata": {
        "id": "zOiQojXX061m"
      },
      "source": [
        "model = LogisticRegression(solver='liblinear', random_state=0)"
      ],
      "execution_count": 66,
      "outputs": []
    },
    {
      "cell_type": "code",
      "metadata": {
        "colab": {
          "base_uri": "https://localhost:8080/"
        },
        "id": "wLqiIrGN1mxL",
        "outputId": "fda906e2-fa15-45c6-8c3c-b969b443ec18"
      },
      "source": [
        "from sklearn.linear_model import LogisticRegression\n",
        "classifier = LogisticRegression(random_state=0)\n",
        "classifier.fit"
      ],
      "execution_count": 67,
      "outputs": [
        {
          "output_type": "execute_result",
          "data": {
            "text/plain": [
              "<bound method LogisticRegression.fit of LogisticRegression(random_state=0)>"
            ]
          },
          "metadata": {},
          "execution_count": 67
        }
      ]
    },
    {
      "cell_type": "code",
      "metadata": {
        "colab": {
          "base_uri": "https://localhost:8080/"
        },
        "id": "_CCzjE7L9x1k",
        "outputId": "cd6c84df-e232-46bc-a689-9ebf46026e38"
      },
      "source": [
        "print(X_train)"
      ],
      "execution_count": 68,
      "outputs": [
        {
          "output_type": "stream",
          "name": "stdout",
          "text": [
            "              V1        V2        V3  ...       V27       V28   Amount\n",
            "155984 -0.540028  0.867155  1.911255  ... -0.210201 -0.156693    11.27\n",
            "18117   1.297117  0.295385 -0.152326  ... -0.026364  0.009137     0.99\n",
            "197271 -0.603693 -0.359760 -0.051017  ...  0.033875 -0.307650   305.77\n",
            "68171   1.418468 -1.301239  0.736703  ...  0.054101  0.023655    30.80\n",
            "16041   1.535424 -1.136798 -0.146356  ...  0.035521 -0.009038    10.00\n",
            "...          ...       ...       ...  ...       ...       ...      ...\n",
            "21440  -2.986845 -8.663978 -1.910863  ... -0.382702  0.404045  2312.26\n",
            "117583  0.937083 -0.849673  0.524186  ... -0.060168  0.023771   171.32\n",
            "73349  -1.149963  1.696462  1.637114  ... -0.162047  0.031193     7.58\n",
            "267336  1.754554 -0.699398 -0.076332  ... -0.005853 -0.019622    94.80\n",
            "128037 -0.707635  0.493302  2.648089  ... -0.385589 -0.205589    57.80\n",
            "\n",
            "[191283 rows x 29 columns]\n"
          ]
        }
      ]
    },
    {
      "cell_type": "code",
      "metadata": {
        "colab": {
          "base_uri": "https://localhost:8080/"
        },
        "id": "CL93taO494e6",
        "outputId": "85fd8809-8375-4db1-e31a-bd792685bc15"
      },
      "source": [
        "print(y_train)"
      ],
      "execution_count": 69,
      "outputs": [
        {
          "output_type": "stream",
          "name": "stdout",
          "text": [
            "        Class\n",
            "155984    0.0\n",
            "18117     0.0\n",
            "197271    0.0\n",
            "68171     0.0\n",
            "16041     0.0\n",
            "...       ...\n",
            "21440     0.0\n",
            "117583    0.0\n",
            "73349     0.0\n",
            "267336    0.0\n",
            "128037    0.0\n",
            "\n",
            "[191283 rows x 1 columns]\n"
          ]
        }
      ]
    },
    {
      "cell_type": "code",
      "metadata": {
        "colab": {
          "base_uri": "https://localhost:8080/"
        },
        "id": "ELz0B2aL9RNC",
        "outputId": "db8ba641-f3e2-4489-f939-15cde5b55102"
      },
      "source": [
        "print(X_test)"
      ],
      "execution_count": 70,
      "outputs": [
        {
          "output_type": "stream",
          "name": "stdout",
          "text": [
            "              V1        V2        V3  ...       V27       V28  Amount\n",
            "84437  -2.177002 -1.271227  1.566449  ...  0.162949 -0.177306    1.00\n",
            "92182   1.110350 -0.055416  1.325949  ...  0.060760  0.029154    6.53\n",
            "39077   1.408030 -1.316365 -0.190234  ... -0.008854  0.006303   85.68\n",
            "161499 -0.610812  1.014630  0.183419  ...  0.012511  0.054587   53.50\n",
            "186109  1.183003 -2.111280 -1.077631  ... -0.126583  0.007375  440.00\n",
            "...          ...       ...       ...  ...       ...       ...     ...\n",
            "48549   1.214811 -0.115284  0.853358  ... -0.063968  0.001310    1.00\n",
            "20698  -1.276149  1.542366  1.174441  ...  0.514445  0.156046    8.99\n",
            "74504   1.318921 -0.502773  0.319480  ... -0.065241  0.018496   47.95\n",
            "212603 -2.485346 -2.639946  0.847976  ... -0.193912  0.171521  463.00\n",
            "12625   1.162061 -0.388315  1.126597  ...  0.074737  0.028351   11.85\n",
            "\n",
            "[81979 rows x 29 columns]\n"
          ]
        }
      ]
    },
    {
      "cell_type": "code",
      "metadata": {
        "id": "4RnqYpgX7X9X"
      },
      "source": [
        "pred = model.predict"
      ],
      "execution_count": 71,
      "outputs": []
    },
    {
      "cell_type": "code",
      "metadata": {
        "colab": {
          "base_uri": "https://localhost:8080/"
        },
        "id": "-RtqrBYC9LLS",
        "outputId": "5eb17e9b-baa9-4de7-a6d6-cb2258e2065b"
      },
      "source": [
        "print(y_test)"
      ],
      "execution_count": 72,
      "outputs": [
        {
          "output_type": "stream",
          "name": "stdout",
          "text": [
            "        Class\n",
            "84437     0.0\n",
            "92182     0.0\n",
            "39077     0.0\n",
            "161499    0.0\n",
            "186109    0.0\n",
            "...       ...\n",
            "48549     0.0\n",
            "20698     0.0\n",
            "74504     0.0\n",
            "212603    0.0\n",
            "12625     0.0\n",
            "\n",
            "[81979 rows x 1 columns]\n"
          ]
        }
      ]
    },
    {
      "cell_type": "code",
      "metadata": {
        "colab": {
          "base_uri": "https://localhost:8080/"
        },
        "id": "N0Yd4fBu76CI",
        "outputId": "de52d664-22cd-4940-a998-dcce9e121197"
      },
      "source": [
        "print(pred)"
      ],
      "execution_count": 73,
      "outputs": [
        {
          "output_type": "stream",
          "name": "stdout",
          "text": [
            "<bound method LinearClassifierMixin.predict of LogisticRegression(random_state=0, solver='liblinear')>\n"
          ]
        }
      ]
    },
    {
      "cell_type": "code",
      "metadata": {
        "id": "rHSuPlof-WgC"
      },
      "source": [
        "import pandas as pd\n",
        "import seaborn as sn\n",
        "import matplotlib.pyplot as plt"
      ],
      "execution_count": 74,
      "outputs": []
    },
    {
      "cell_type": "code",
      "metadata": {
        "colab": {
          "base_uri": "https://localhost:8080/"
        },
        "id": "d-9k8DFA_EMa",
        "outputId": "d53be5f7-d262-4e1a-bcf4-f23a573a2775"
      },
      "source": [
        "from sklearn.metrics import confusion_matrix\n",
        "cm= confusion_matrix\n",
        "print(cm)"
      ],
      "execution_count": 75,
      "outputs": [
        {
          "output_type": "stream",
          "name": "stdout",
          "text": [
            "<function confusion_matrix at 0x7f9113d0e710>\n"
          ]
        }
      ]
    }
  ]
}